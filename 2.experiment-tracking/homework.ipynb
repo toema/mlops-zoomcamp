{
 "cells": [
  {
   "cell_type": "code",
   "execution_count": 31,
   "id": "129b2aa0",
   "metadata": {},
   "outputs": [
    {
     "name": "stdout",
     "output_type": "stream",
     "text": [
      "Python 3.11.4\n",
      "Requirement already satisfied: seaborn in c:\\users\\flrg0823\\downloads\\mlops-zoomcamp\\mlops\\lib\\site-packages (0.13.2)\n",
      "Requirement already satisfied: numpy!=1.24.0,>=1.20 in c:\\users\\flrg0823\\downloads\\mlops-zoomcamp\\mlops\\lib\\site-packages (from seaborn) (1.26.4)\n",
      "Requirement already satisfied: pandas>=1.2 in c:\\users\\flrg0823\\downloads\\mlops-zoomcamp\\mlops\\lib\\site-packages (from seaborn) (2.2.2)\n",
      "Requirement already satisfied: matplotlib!=3.6.1,>=3.4 in c:\\users\\flrg0823\\downloads\\mlops-zoomcamp\\mlops\\lib\\site-packages (from seaborn) (3.9.0)\n",
      "Requirement already satisfied: contourpy>=1.0.1 in c:\\users\\flrg0823\\downloads\\mlops-zoomcamp\\mlops\\lib\\site-packages (from matplotlib!=3.6.1,>=3.4->seaborn) (1.2.1)\n",
      "Requirement already satisfied: cycler>=0.10 in c:\\users\\flrg0823\\downloads\\mlops-zoomcamp\\mlops\\lib\\site-packages (from matplotlib!=3.6.1,>=3.4->seaborn) (0.12.1)\n",
      "Requirement already satisfied: fonttools>=4.22.0 in c:\\users\\flrg0823\\downloads\\mlops-zoomcamp\\mlops\\lib\\site-packages (from matplotlib!=3.6.1,>=3.4->seaborn) (4.52.1)\n",
      "Requirement already satisfied: kiwisolver>=1.3.1 in c:\\users\\flrg0823\\downloads\\mlops-zoomcamp\\mlops\\lib\\site-packages (from matplotlib!=3.6.1,>=3.4->seaborn) (1.4.5)\n",
      "Requirement already satisfied: packaging>=20.0 in c:\\users\\flrg0823\\downloads\\mlops-zoomcamp\\mlops\\lib\\site-packages (from matplotlib!=3.6.1,>=3.4->seaborn) (24.0)\n",
      "Requirement already satisfied: pillow>=8 in c:\\users\\flrg0823\\downloads\\mlops-zoomcamp\\mlops\\lib\\site-packages (from matplotlib!=3.6.1,>=3.4->seaborn) (10.3.0)\n",
      "Requirement already satisfied: pyparsing>=2.3.1 in c:\\users\\flrg0823\\downloads\\mlops-zoomcamp\\mlops\\lib\\site-packages (from matplotlib!=3.6.1,>=3.4->seaborn) (3.1.2)\n",
      "Requirement already satisfied: python-dateutil>=2.7 in c:\\users\\flrg0823\\downloads\\mlops-zoomcamp\\mlops\\lib\\site-packages (from matplotlib!=3.6.1,>=3.4->seaborn) (2.9.0.post0)\n",
      "Requirement already satisfied: pytz>=2020.1 in c:\\users\\flrg0823\\downloads\\mlops-zoomcamp\\mlops\\lib\\site-packages (from pandas>=1.2->seaborn) (2024.1)\n",
      "Requirement already satisfied: tzdata>=2022.7 in c:\\users\\flrg0823\\downloads\\mlops-zoomcamp\\mlops\\lib\\site-packages (from pandas>=1.2->seaborn) (2024.1)\n",
      "Requirement already satisfied: six>=1.5 in c:\\users\\flrg0823\\downloads\\mlops-zoomcamp\\mlops\\lib\\site-packages (from python-dateutil>=2.7->matplotlib!=3.6.1,>=3.4->seaborn) (1.16.0)\n"
     ]
    },
    {
     "name": "stderr",
     "output_type": "stream",
     "text": [
      "\n",
      "[notice] A new release of pip is available: 23.1.2 -> 24.0\n",
      "[notice] To update, run: python.exe -m pip install --upgrade pip\n"
     ]
    },
    {
     "name": "stdout",
     "output_type": "stream",
     "text": [
      "Requirement already satisfied: click in c:\\users\\flrg0823\\downloads\\mlops-zoomcamp\\mlops\\lib\\site-packages (8.1.7)"
     ]
    },
    {
     "name": "stderr",
     "output_type": "stream",
     "text": [
      "\n",
      "[notice] A new release of pip is available: 23.1.2 -> 24.0\n",
      "[notice] To update, run: python.exe -m pip install --upgrade pip\n"
     ]
    },
    {
     "name": "stdout",
     "output_type": "stream",
     "text": [
      "\n",
      "Requirement already satisfied: colorama in c:\\users\\flrg0823\\downloads\\mlops-zoomcamp\\mlops\\lib\\site-packages (from click) (0.4.6)\n",
      "Requirement already satisfied: mlflow in c:\\users\\flrg0823\\downloads\\mlops-zoomcamp\\mlops\\lib\\site-packages (2.13.0)\n",
      "Requirement already satisfied: Flask<4 in c:\\users\\flrg0823\\downloads\\mlops-zoomcamp\\mlops\\lib\\site-packages (from mlflow) (3.0.3)\n",
      "Requirement already satisfied: alembic!=1.10.0,<2 in c:\\users\\flrg0823\\downloads\\mlops-zoomcamp\\mlops\\lib\\site-packages (from mlflow) (1.13.1)\n",
      "Requirement already satisfied: cachetools<6,>=5.0.0 in c:\\users\\flrg0823\\downloads\\mlops-zoomcamp\\mlops\\lib\\site-packages (from mlflow) (5.3.3)\n",
      "Requirement already satisfied: click<9,>=7.0 in c:\\users\\flrg0823\\downloads\\mlops-zoomcamp\\mlops\\lib\\site-packages (from mlflow) (8.1.7)\n",
      "Requirement already satisfied: cloudpickle<4 in c:\\users\\flrg0823\\downloads\\mlops-zoomcamp\\mlops\\lib\\site-packages (from mlflow) (3.0.0)\n",
      "Requirement already satisfied: docker<8,>=4.0.0 in c:\\users\\flrg0823\\downloads\\mlops-zoomcamp\\mlops\\lib\\site-packages (from mlflow) (7.1.0)\n",
      "Requirement already satisfied: entrypoints<1 in c:\\users\\flrg0823\\downloads\\mlops-zoomcamp\\mlops\\lib\\site-packages (from mlflow) (0.4)\n",
      "Requirement already satisfied: gitpython<4,>=3.1.9 in c:\\users\\flrg0823\\downloads\\mlops-zoomcamp\\mlops\\lib\\site-packages (from mlflow) (3.1.43)\n",
      "Requirement already satisfied: graphene<4 in c:\\users\\flrg0823\\downloads\\mlops-zoomcamp\\mlops\\lib\\site-packages (from mlflow) (3.3)\n",
      "Requirement already satisfied: importlib-metadata!=4.7.0,<8,>=3.7.0 in c:\\users\\flrg0823\\downloads\\mlops-zoomcamp\\mlops\\lib\\site-packages (from mlflow) (7.0.0)\n",
      "Requirement already satisfied: markdown<4,>=3.3 in c:\\users\\flrg0823\\downloads\\mlops-zoomcamp\\mlops\\lib\\site-packages (from mlflow) (3.6)\n",
      "Requirement already satisfied: matplotlib<4 in c:\\users\\flrg0823\\downloads\\mlops-zoomcamp\\mlops\\lib\\site-packages (from mlflow) (3.9.0)\n",
      "Requirement already satisfied: numpy<2 in c:\\users\\flrg0823\\downloads\\mlops-zoomcamp\\mlops\\lib\\site-packages (from mlflow) (1.26.4)\n",
      "Requirement already satisfied: opentelemetry-api<3,>=1.0.0 in c:\\users\\flrg0823\\downloads\\mlops-zoomcamp\\mlops\\lib\\site-packages (from mlflow) (1.24.0)\n",
      "Requirement already satisfied: opentelemetry-sdk<3,>=1.0.0 in c:\\users\\flrg0823\\downloads\\mlops-zoomcamp\\mlops\\lib\\site-packages (from mlflow) (1.24.0)\n",
      "Requirement already satisfied: packaging<25 in c:\\users\\flrg0823\\downloads\\mlops-zoomcamp\\mlops\\lib\\site-packages (from mlflow) (24.0)\n",
      "Requirement already satisfied: pandas<3 in c:\\users\\flrg0823\\downloads\\mlops-zoomcamp\\mlops\\lib\\site-packages (from mlflow) (2.2.2)\n",
      "Requirement already satisfied: protobuf<5,>=3.12.0 in c:\\users\\flrg0823\\downloads\\mlops-zoomcamp\\mlops\\lib\\site-packages (from mlflow) (4.25.3)\n",
      "Requirement already satisfied: pyarrow<16,>=4.0.0 in c:\\users\\flrg0823\\downloads\\mlops-zoomcamp\\mlops\\lib\\site-packages (from mlflow) (15.0.2)\n",
      "Requirement already satisfied: pytz<2025 in c:\\users\\flrg0823\\downloads\\mlops-zoomcamp\\mlops\\lib\\site-packages (from mlflow) (2024.1)\n",
      "Requirement already satisfied: pyyaml<7,>=5.1 in c:\\users\\flrg0823\\downloads\\mlops-zoomcamp\\mlops\\lib\\site-packages (from mlflow) (6.0.1)\n",
      "Requirement already satisfied: querystring-parser<2 in c:\\users\\flrg0823\\downloads\\mlops-zoomcamp\\mlops\\lib\\site-packages (from mlflow) (1.2.4)\n",
      "Requirement already satisfied: requests<3,>=2.17.3 in c:\\users\\flrg0823\\downloads\\mlops-zoomcamp\\mlops\\lib\\site-packages (from mlflow) (2.32.2)\n",
      "Requirement already satisfied: scikit-learn<2 in c:\\users\\flrg0823\\downloads\\mlops-zoomcamp\\mlops\\lib\\site-packages (from mlflow) (1.5.0)\n",
      "Requirement already satisfied: scipy<2 in c:\\users\\flrg0823\\downloads\\mlops-zoomcamp\\mlops\\lib\\site-packages (from mlflow) (1.13.1)\n",
      "Requirement already satisfied: sqlalchemy<3,>=1.4.0 in c:\\users\\flrg0823\\downloads\\mlops-zoomcamp\\mlops\\lib\\site-packages (from mlflow) (2.0.30)\n",
      "Requirement already satisfied: sqlparse<1,>=0.4.0 in c:\\users\\flrg0823\\downloads\\mlops-zoomcamp\\mlops\\lib\\site-packages (from mlflow) (0.5.0)\n",
      "Requirement already satisfied: Jinja2<4,>=3.0 in c:\\users\\flrg0823\\downloads\\mlops-zoomcamp\\mlops\\lib\\site-packages (from mlflow) (3.1.4)\n",
      "Requirement already satisfied: waitress<4 in c:\\users\\flrg0823\\downloads\\mlops-zoomcamp\\mlops\\lib\\site-packages (from mlflow) (3.0.0)\n",
      "Requirement already satisfied: Mako in c:\\users\\flrg0823\\downloads\\mlops-zoomcamp\\mlops\\lib\\site-packages (from alembic!=1.10.0,<2->mlflow) (1.3.5)\n",
      "Requirement already satisfied: typing-extensions>=4 in c:\\users\\flrg0823\\downloads\\mlops-zoomcamp\\mlops\\lib\\site-packages (from alembic!=1.10.0,<2->mlflow) (4.12.0)\n",
      "Requirement already satisfied: colorama in c:\\users\\flrg0823\\downloads\\mlops-zoomcamp\\mlops\\lib\\site-packages (from click<9,>=7.0->mlflow) (0.4.6)\n",
      "Requirement already satisfied: pywin32>=304 in c:\\users\\flrg0823\\downloads\\mlops-zoomcamp\\mlops\\lib\\site-packages (from docker<8,>=4.0.0->mlflow) (306)\n",
      "Requirement already satisfied: urllib3>=1.26.0 in c:\\users\\flrg0823\\downloads\\mlops-zoomcamp\\mlops\\lib\\site-packages (from docker<8,>=4.0.0->mlflow) (2.2.1)\n",
      "Requirement already satisfied: Werkzeug>=3.0.0 in c:\\users\\flrg0823\\downloads\\mlops-zoomcamp\\mlops\\lib\\site-packages (from Flask<4->mlflow) (3.0.3)\n",
      "Requirement already satisfied: itsdangerous>=2.1.2 in c:\\users\\flrg0823\\downloads\\mlops-zoomcamp\\mlops\\lib\\site-packages (from Flask<4->mlflow) (2.2.0)\n",
      "Requirement already satisfied: blinker>=1.6.2 in c:\\users\\flrg0823\\downloads\\mlops-zoomcamp\\mlops\\lib\\site-packages (from Flask<4->mlflow) (1.8.2)\n",
      "Requirement already satisfied: gitdb<5,>=4.0.1 in c:\\users\\flrg0823\\downloads\\mlops-zoomcamp\\mlops\\lib\\site-packages (from gitpython<4,>=3.1.9->mlflow) (4.0.11)\n",
      "Requirement already satisfied: graphql-core<3.3,>=3.1 in c:\\users\\flrg0823\\downloads\\mlops-zoomcamp\\mlops\\lib\\site-packages (from graphene<4->mlflow) (3.2.3)\n",
      "Requirement already satisfied: graphql-relay<3.3,>=3.1 in c:\\users\\flrg0823\\downloads\\mlops-zoomcamp\\mlops\\lib\\site-packages (from graphene<4->mlflow) (3.2.0)\n",
      "Requirement already satisfied: aniso8601<10,>=8 in c:\\users\\flrg0823\\downloads\\mlops-zoomcamp\\mlops\\lib\\site-packages (from graphene<4->mlflow) (9.0.1)\n",
      "Requirement already satisfied: zipp>=0.5 in c:\\users\\flrg0823\\downloads\\mlops-zoomcamp\\mlops\\lib\\site-packages (from importlib-metadata!=4.7.0,<8,>=3.7.0->mlflow) (3.18.2)\n",
      "Requirement already satisfied: MarkupSafe>=2.0 in c:\\users\\flrg0823\\downloads\\mlops-zoomcamp\\mlops\\lib\\site-packages (from Jinja2<4,>=3.0->mlflow) (2.1.5)\n",
      "Requirement already satisfied: contourpy>=1.0.1 in c:\\users\\flrg0823\\downloads\\mlops-zoomcamp\\mlops\\lib\\site-packages (from matplotlib<4->mlflow) (1.2.1)\n",
      "Requirement already satisfied: cycler>=0.10 in c:\\users\\flrg0823\\downloads\\mlops-zoomcamp\\mlops\\lib\\site-packages (from matplotlib<4->mlflow) (0.12.1)\n",
      "Requirement already satisfied: fonttools>=4.22.0 in c:\\users\\flrg0823\\downloads\\mlops-zoomcamp\\mlops\\lib\\site-packages (from matplotlib<4->mlflow) (4.52.1)\n",
      "Requirement already satisfied: kiwisolver>=1.3.1 in c:\\users\\flrg0823\\downloads\\mlops-zoomcamp\\mlops\\lib\\site-packages (from matplotlib<4->mlflow) (1.4.5)\n",
      "Requirement already satisfied: pillow>=8 in c:\\users\\flrg0823\\downloads\\mlops-zoomcamp\\mlops\\lib\\site-packages (from matplotlib<4->mlflow) (10.3.0)\n",
      "Requirement already satisfied: pyparsing>=2.3.1 in c:\\users\\flrg0823\\downloads\\mlops-zoomcamp\\mlops\\lib\\site-packages (from matplotlib<4->mlflow) (3.1.2)\n",
      "Requirement already satisfied: python-dateutil>=2.7 in c:\\users\\flrg0823\\downloads\\mlops-zoomcamp\\mlops\\lib\\site-packages (from matplotlib<4->mlflow) (2.9.0.post0)\n",
      "Requirement already satisfied: deprecated>=1.2.6 in c:\\users\\flrg0823\\downloads\\mlops-zoomcamp\\mlops\\lib\\site-packages (from opentelemetry-api<3,>=1.0.0->mlflow) (1.2.14)\n",
      "Requirement already satisfied: opentelemetry-semantic-conventions==0.45b0 in c:\\users\\flrg0823\\downloads\\mlops-zoomcamp\\mlops\\lib\\site-packages (from opentelemetry-sdk<3,>=1.0.0->mlflow) (0.45b0)\n",
      "Requirement already satisfied: tzdata>=2022.7 in c:\\users\\flrg0823\\downloads\\mlops-zoomcamp\\mlops\\lib\\site-packages (from pandas<3->mlflow) (2024.1)\n",
      "Requirement already satisfied: six in c:\\users\\flrg0823\\downloads\\mlops-zoomcamp\\mlops\\lib\\site-packages (from querystring-parser<2->mlflow) (1.16.0)\n",
      "Requirement already satisfied: charset-normalizer<4,>=2 in c:\\users\\flrg0823\\downloads\\mlops-zoomcamp\\mlops\\lib\\site-packages (from requests<3,>=2.17.3->mlflow) (3.3.2)\n",
      "Requirement already satisfied: idna<4,>=2.5 in c:\\users\\flrg0823\\downloads\\mlops-zoomcamp\\mlops\\lib\\site-packages (from requests<3,>=2.17.3->mlflow) (3.7)\n",
      "Requirement already satisfied: certifi>=2017.4.17 in c:\\users\\flrg0823\\downloads\\mlops-zoomcamp\\mlops\\lib\\site-packages (from requests<3,>=2.17.3->mlflow) (2024.2.2)\n",
      "Requirement already satisfied: joblib>=1.2.0 in c:\\users\\flrg0823\\downloads\\mlops-zoomcamp\\mlops\\lib\\site-packages (from scikit-learn<2->mlflow) (1.4.2)\n",
      "Requirement already satisfied: threadpoolctl>=3.1.0 in c:\\users\\flrg0823\\downloads\\mlops-zoomcamp\\mlops\\lib\\site-packages (from scikit-learn<2->mlflow) (3.5.0)\n",
      "Requirement already satisfied: greenlet!=0.4.17 in c:\\users\\flrg0823\\downloads\\mlops-zoomcamp\\mlops\\lib\\site-packages (from sqlalchemy<3,>=1.4.0->mlflow) (3.0.3)\n",
      "Requirement already satisfied: wrapt<2,>=1.10 in c:\\users\\flrg0823\\downloads\\mlops-zoomcamp\\mlops\\lib\\site-packages (from deprecated>=1.2.6->opentelemetry-api<3,>=1.0.0->mlflow) (1.16.0)\n",
      "Requirement already satisfied: smmap<6,>=3.0.1 in c:\\users\\flrg0823\\downloads\\mlops-zoomcamp\\mlops\\lib\\site-packages (from gitdb<5,>=4.0.1->gitpython<4,>=3.1.9->mlflow) (5.0.1)\n"
     ]
    },
    {
     "name": "stderr",
     "output_type": "stream",
     "text": [
      "\n",
      "[notice] A new release of pip is available: 23.1.2 -> 24.0\n",
      "[notice] To update, run: python.exe -m pip install --upgrade pip\n"
     ]
    }
   ],
   "source": [
    "!python --version\n",
    "!pip install seaborn\n",
    "!pip install click\n",
    "!pip install mlflow"
   ]
  },
  {
   "cell_type": "code",
   "execution_count": 20,
   "id": "c64178bd",
   "metadata": {},
   "outputs": [],
   "source": [
    "import pandas as pd\n",
    "import pickle\n",
    "import seaborn as sns\n",
    "import matplotlib.pyplot as plt\n",
    "from sklearn.feature_extraction import DictVectorizer\n",
    "from sklearn.linear_model import LinearRegression\n",
    "from sklearn.linear_model import Lasso\n",
    "from sklearn.linear_model import Ridge\n",
    "\n",
    "from sklearn.metrics import mean_squared_error"
   ]
  },
  {
   "cell_type": "code",
   "execution_count": 23,
   "id": "1a442e6c",
   "metadata": {},
   "outputs": [
    {
     "name": "stderr",
     "output_type": "stream",
     "text": [
      "UsageError: Line magic function `%%python` not found.\n"
     ]
    }
   ],
   "source": [
    "\n",
    "import mlflow\n",
    "\n",
    "mlflow.set_tracking_uri('sqlite:///mlflow.db')\n",
    "mlflow.set_experiment('brand_new_experiment')\n",
    "\n",
    "\n",
    "\n",
    "\n",
    "\n",
    "\n"
   ]
  },
  {
   "cell_type": "code",
   "execution_count": null,
   "id": "7feed027",
   "metadata": {},
   "outputs": [],
   "source": [
    "df = pd.read_parquet('./data/green_tripdata_2023-02.parquet')\n",
    "num_columns = df.shape[1]\n",
    "print(num_columns)"
   ]
  },
  {
   "cell_type": "code",
   "execution_count": 52,
   "id": "01198b66",
   "metadata": {},
   "outputs": [],
   "source": [
    "\n",
    "\n",
    "\n",
    "import os\n",
    "import pickle\n",
    "import mlflow\n",
    "from sklearn.ensemble import RandomForestRegressor\n",
    "from sklearn.metrics import mean_squared_error\n",
    "\n",
    "def load_pickle(filename: str):\n",
    "    with open(filename, \"rb\") as f_in:\n",
    "        return pickle.load(f_in)\n",
    "\n",
    "def run_train(data_path: str = \"./output\"):\n",
    "    mlflow.autolog()\n",
    "\n",
    "    X_train, y_train = load_pickle(os.path.join(data_path, \"train.pkl\"))\n",
    "    X_val, y_val = load_pickle(os.path.join(data_path, \"val.pkl\"))\n",
    "\n",
    "    rf = RandomForestRegressor(max_depth=10, random_state=0)\n",
    "    rf.fit(X_train, y_train)\n",
    "    y_pred = rf.predict(X_val)\n",
    "\n",
    "    rmse = mean_squared_error(y_val, y_pred, squared=False)\n",
    "    # mlflow.log_metric('rmse', rmse)\n",
    "\n",
    "\n"
   ]
  },
  {
   "cell_type": "code",
   "execution_count": 53,
   "id": "4ed0e2d2",
   "metadata": {},
   "outputs": [
    {
     "name": "stderr",
     "output_type": "stream",
     "text": [
      "2024/05/28 02:50:29 WARNING mlflow.utils.autologging_utils: You are using an unsupported version of sklearn. If you encounter errors during autologging, try upgrading / downgrading sklearn to a supported version, or try upgrading MLflow.\n",
      "2024/05/28 02:50:30 INFO mlflow.tracking.fluent: Autologging successfully enabled for sklearn.\n",
      "2024/05/28 02:50:30 WARNING mlflow.sklearn: Failed to log training dataset information to MLflow Tracking. Reason: 'numpy.ndarray' object has no attribute 'toarray'\n",
      "2024/05/28 02:50:49 WARNING mlflow.utils.autologging_utils: Encountered unexpected error during sklearn autologging: The configured tracking uri scheme: 'sqlite' is invalid for use with the proxy mlflow-artifact scheme. The allowed tracking schemes are: {'http', 'https'}\n",
      "c:\\Users\\FLRG0823\\Downloads\\mlops-zoomcamp\\mlops\\Lib\\site-packages\\sklearn\\metrics\\_regression.py:492: FutureWarning: 'squared' is deprecated in version 1.4 and will be removed in 1.6. To calculate the root mean squared error, use the function'root_mean_squared_error'.\n",
      "  warnings.warn(\n"
     ]
    }
   ],
   "source": [
    "\n",
    "if __name__==\"__main__\":\n",
    "    with mlflow.start_run(experiment_id=0):\n",
    "        run_train()"
   ]
  },
  {
   "cell_type": "code",
   "execution_count": 56,
   "id": "0caf39b7",
   "metadata": {},
   "outputs": [],
   "source": [
    "import os\n",
    "import pickle\n",
    "import mlflow\n",
    "import numpy as np\n",
    "from hyperopt import STATUS_OK, Trials, fmin, hp, tpe\n",
    "from hyperopt.pyll import scope\n",
    "from sklearn.ensemble import RandomForestRegressor\n",
    "from sklearn.metrics import mean_squared_error\n",
    "\n",
    "mlflow.set_tracking_uri(\"http://127.0.0.1:5000\")\n",
    "mlflow.set_experiment(\"random-forest-hyperopt\")\n",
    "\n",
    "\n",
    "def load_pickle(filename: str):\n",
    "    with open(filename, \"rb\") as f_in:\n",
    "        return pickle.load(f_in)\n",
    "\n",
    "\n",
    "def run_optimization(data_path: str='./output', num_trials: int=15):\n",
    "\n",
    "    X_train, y_train = load_pickle(os.path.join(data_path, \"train.pkl\"))\n",
    "    X_val, y_val = load_pickle(os.path.join(data_path, \"val.pkl\"))\n",
    "\n",
    "    def objective(params):\n",
    "\n",
    "        rf = RandomForestRegressor(**params)\n",
    "        rf.fit(X_train, y_train)\n",
    "        y_pred = rf.predict(X_val)\n",
    "        rmse = mean_squared_error(y_val, y_pred, squared=False)\n",
    "        mlflow.log_metric(\"rmse\", rmse)\n",
    "        return {'loss': rmse, 'status': STATUS_OK}\n",
    "\n",
    "    search_space = {\n",
    "        'max_depth': scope.int(hp.quniform('max_depth', 1, 20, 1)),\n",
    "        'n_estimators': scope.int(hp.quniform('n_estimators', 10, 50, 1)),\n",
    "        'min_samples_split': scope.int(hp.quniform('min_samples_split', 2, 10, 1)),\n",
    "        'min_samples_leaf': scope.int(hp.quniform('min_samples_leaf', 1, 4, 1)),\n",
    "        'random_state': 42\n",
    "    }\n",
    "\n",
    "    rstate = np.random.default_rng(42)  # for reproducible results\n",
    "    fmin(\n",
    "        fn=objective,\n",
    "        space=search_space,\n",
    "        algo=tpe.suggest,\n",
    "        max_evals=num_trials,\n",
    "        trials=Trials(),\n",
    "        rstate=rstate\n",
    "    )\n",
    "\n"
   ]
  },
  {
   "cell_type": "code",
   "execution_count": 57,
   "id": "384d7fbc",
   "metadata": {},
   "outputs": [
    {
     "name": "stdout",
     "output_type": "stream",
     "text": [
      "  0%|          | 0/15 [00:00<?, ?trial/s, best loss=?]"
     ]
    },
    {
     "name": "stderr",
     "output_type": "stream",
     "text": [
      "2024/05/28 20:07:04 WARNING mlflow.sklearn: Failed to log training dataset information to MLflow Tracking. Reason: 'numpy.ndarray' object has no attribute 'toarray'\n",
      "\n",
      "c:\\Users\\FLRG0823\\Downloads\\mlops-zoomcamp\\mlops\\Lib\\site-packages\\sklearn\\metrics\\_regression.py:492: FutureWarning: 'squared' is deprecated in version 1.4 and will be removed in 1.6. To calculate the root mean squared error, use the function'root_mean_squared_error'.\n",
      "  warnings.warn(\n",
      "\n"
     ]
    },
    {
     "name": "stdout",
     "output_type": "stream",
     "text": [
      "  7%|▋         | 1/15 [00:36<08:26, 36.19s/trial, best loss: 5.370086069268862]"
     ]
    },
    {
     "name": "stderr",
     "output_type": "stream",
     "text": [
      "2024/05/28 20:07:40 WARNING mlflow.sklearn: Failed to log training dataset information to MLflow Tracking. Reason: 'numpy.ndarray' object has no attribute 'toarray'\n",
      "\n",
      "2024/05/28 20:07:52 WARNING mlflow.utils.autologging_utils: Encountered unexpected error during sklearn autologging: The following failures occurred while performing one or more logging operations: [MlflowException('Failed to perform one or more operations on the run with ID f5f5879ac304482091ac418c734c2301. Failed operations: [RestException(\"INVALID_PARAMETER_VALUE: Changing param values is not allowed. Params were already logged=\\'[{\\'key\\': \\'max_depth\\', \\'old_value\\': \\'13\\', \\'new_value\\': \\'2\\'}, {\\'key\\': \\'n_estimators\\', \\'old_value\\': \\'43\\', \\'new_value\\': \\'22\\'}]\\' for run ID=\\'f5f5879ac304482091ac418c734c2301\\'.\")]')]\n",
      "\n"
     ]
    },
    {
     "name": "stdout",
     "output_type": "stream",
     "text": [
      " 13%|█▎        | 2/15 [00:48<04:47, 22.15s/trial, best loss: 5.370086069268862]"
     ]
    },
    {
     "name": "stderr",
     "output_type": "stream",
     "text": [
      "c:\\Users\\FLRG0823\\Downloads\\mlops-zoomcamp\\mlops\\Lib\\site-packages\\sklearn\\metrics\\_regression.py:492: FutureWarning: 'squared' is deprecated in version 1.4 and will be removed in 1.6. To calculate the root mean squared error, use the function'root_mean_squared_error'.\n",
      "  warnings.warn(\n",
      "\n",
      "2024/05/28 20:07:53 WARNING mlflow.sklearn: Failed to log training dataset information to MLflow Tracking. Reason: 'numpy.ndarray' object has no attribute 'toarray'\n",
      "\n",
      "2024/05/28 20:08:04 WARNING mlflow.utils.autologging_utils: Encountered unexpected error during sklearn autologging: The following failures occurred while performing one or more logging operations: [MlflowException('Failed to perform one or more operations on the run with ID f5f5879ac304482091ac418c734c2301. Failed operations: [RestException(\"INVALID_PARAMETER_VALUE: Changing param values is not allowed. Params were already logged=\\'[{\\'key\\': \\'max_depth\\', \\'old_value\\': \\'13\\', \\'new_value\\': \\'4\\'}, {\\'key\\': \\'min_samples_leaf\\', \\'old_value\\': \\'4\\', \\'new_value\\': \\'3\\'}, {\\'key\\': \\'min_samples_split\\', \\'old_value\\': \\'7\\', \\'new_value\\': \\'3\\'}, {\\'key\\': \\'n_estimators\\', \\'old_value\\': \\'43\\', \\'new_value\\': \\'16\\'}]\\' for run ID=\\'f5f5879ac304482091ac418c734c2301\\'.\")]')]\n",
      "\n"
     ]
    },
    {
     "name": "stdout",
     "output_type": "stream",
     "text": [
      " 20%|██        | 3/15 [01:00<03:29, 17.45s/trial, best loss: 5.370086069268862]"
     ]
    },
    {
     "name": "stderr",
     "output_type": "stream",
     "text": [
      "c:\\Users\\FLRG0823\\Downloads\\mlops-zoomcamp\\mlops\\Lib\\site-packages\\sklearn\\metrics\\_regression.py:492: FutureWarning: 'squared' is deprecated in version 1.4 and will be removed in 1.6. To calculate the root mean squared error, use the function'root_mean_squared_error'.\n",
      "  warnings.warn(\n",
      "\n",
      "2024/05/28 20:08:04 WARNING mlflow.sklearn: Failed to log training dataset information to MLflow Tracking. Reason: 'numpy.ndarray' object has no attribute 'toarray'\n",
      "\n",
      "2024/05/28 20:08:22 WARNING mlflow.utils.autologging_utils: Encountered unexpected error during sklearn autologging: The following failures occurred while performing one or more logging operations: [MlflowException('Failed to perform one or more operations on the run with ID f5f5879ac304482091ac418c734c2301. Failed operations: [RestException(\"INVALID_PARAMETER_VALUE: Changing param values is not allowed. Params were already logged=\\'[{\\'key\\': \\'max_depth\\', \\'old_value\\': \\'13\\', \\'new_value\\': \\'14\\'}, {\\'key\\': \\'min_samples_leaf\\', \\'old_value\\': \\'4\\', \\'new_value\\': \\'3\\'}, {\\'key\\': \\'min_samples_split\\', \\'old_value\\': \\'7\\', \\'new_value\\': \\'4\\'}, {\\'key\\': \\'n_estimators\\', \\'old_value\\': \\'43\\', \\'new_value\\': \\'26\\'}]\\' for run ID=\\'f5f5879ac304482091ac418c734c2301\\'.\")]')]\n",
      "\n"
     ]
    },
    {
     "name": "stdout",
     "output_type": "stream",
     "text": [
      " 27%|██▋       | 4/15 [01:18<03:13, 17.62s/trial, best loss: 5.357490752366866]"
     ]
    },
    {
     "name": "stderr",
     "output_type": "stream",
     "text": [
      "c:\\Users\\FLRG0823\\Downloads\\mlops-zoomcamp\\mlops\\Lib\\site-packages\\sklearn\\metrics\\_regression.py:492: FutureWarning: 'squared' is deprecated in version 1.4 and will be removed in 1.6. To calculate the root mean squared error, use the function'root_mean_squared_error'.\n",
      "  warnings.warn(\n",
      "\n",
      "2024/05/28 20:08:22 WARNING mlflow.sklearn: Failed to log training dataset information to MLflow Tracking. Reason: 'numpy.ndarray' object has no attribute 'toarray'\n",
      "\n",
      "2024/05/28 20:08:36 WARNING mlflow.utils.autologging_utils: Encountered unexpected error during sklearn autologging: The following failures occurred while performing one or more logging operations: [MlflowException('Failed to perform one or more operations on the run with ID f5f5879ac304482091ac418c734c2301. Failed operations: [RestException(\"INVALID_PARAMETER_VALUE: Changing param values is not allowed. Params were already logged=\\'[{\\'key\\': \\'max_depth\\', \\'old_value\\': \\'13\\', \\'new_value\\': \\'8\\'}, {\\'key\\': \\'min_samples_leaf\\', \\'old_value\\': \\'4\\', \\'new_value\\': \\'2\\'}, {\\'key\\': \\'min_samples_split\\', \\'old_value\\': \\'7\\', \\'new_value\\': \\'3\\'}, {\\'key\\': \\'n_estimators\\', \\'old_value\\': \\'43\\', \\'new_value\\': \\'30\\'}]\\' for run ID=\\'f5f5879ac304482091ac418c734c2301\\'.\")]')]\n",
      "\n"
     ]
    },
    {
     "name": "stdout",
     "output_type": "stream",
     "text": [
      " 33%|███▎      | 5/15 [01:32<02:43, 16.37s/trial, best loss: 5.357490752366866]"
     ]
    },
    {
     "name": "stderr",
     "output_type": "stream",
     "text": [
      "c:\\Users\\FLRG0823\\Downloads\\mlops-zoomcamp\\mlops\\Lib\\site-packages\\sklearn\\metrics\\_regression.py:492: FutureWarning: 'squared' is deprecated in version 1.4 and will be removed in 1.6. To calculate the root mean squared error, use the function'root_mean_squared_error'.\n",
      "  warnings.warn(\n",
      "\n",
      "2024/05/28 20:08:37 WARNING mlflow.sklearn: Failed to log training dataset information to MLflow Tracking. Reason: 'numpy.ndarray' object has no attribute 'toarray'\n",
      "\n",
      "2024/05/28 20:09:06 WARNING mlflow.utils.autologging_utils: Encountered unexpected error during sklearn autologging: The following failures occurred while performing one or more logging operations: [MlflowException('Failed to perform one or more operations on the run with ID f5f5879ac304482091ac418c734c2301. Failed operations: [RestException(\"INVALID_PARAMETER_VALUE: Changing param values is not allowed. Params were already logged=\\'[{\\'key\\': \\'max_depth\\', \\'old_value\\': \\'13\\', \\'new_value\\': \\'15\\'}, {\\'key\\': \\'min_samples_leaf\\', \\'old_value\\': \\'4\\', \\'new_value\\': \\'2\\'}, {\\'key\\': \\'min_samples_split\\', \\'old_value\\': \\'7\\', \\'new_value\\': \\'3\\'}, {\\'key\\': \\'n_estimators\\', \\'old_value\\': \\'43\\', \\'new_value\\': \\'40\\'}]\\' for run ID=\\'f5f5879ac304482091ac418c734c2301\\'.\")]')]\n",
      "\n"
     ]
    },
    {
     "name": "stdout",
     "output_type": "stream",
     "text": [
      " 40%|████      | 6/15 [02:02<03:08, 20.92s/trial, best loss: 5.354695072530291]"
     ]
    },
    {
     "name": "stderr",
     "output_type": "stream",
     "text": [
      "c:\\Users\\FLRG0823\\Downloads\\mlops-zoomcamp\\mlops\\Lib\\site-packages\\sklearn\\metrics\\_regression.py:492: FutureWarning: 'squared' is deprecated in version 1.4 and will be removed in 1.6. To calculate the root mean squared error, use the function'root_mean_squared_error'.\n",
      "  warnings.warn(\n",
      "\n",
      "2024/05/28 20:09:06 WARNING mlflow.sklearn: Failed to log training dataset information to MLflow Tracking. Reason: 'numpy.ndarray' object has no attribute 'toarray'\n",
      "\n",
      "2024/05/28 20:09:31 WARNING mlflow.utils.autologging_utils: Encountered unexpected error during sklearn autologging: The following failures occurred while performing one or more logging operations: [MlflowException('Failed to perform one or more operations on the run with ID f5f5879ac304482091ac418c734c2301. Failed operations: [RestException(\"INVALID_PARAMETER_VALUE: Changing param values is not allowed. Params were already logged=\\'[{\\'key\\': \\'max_depth\\', \\'old_value\\': \\'13\\', \\'new_value\\': \\'18\\'}, {\\'key\\': \\'min_samples_leaf\\', \\'old_value\\': \\'4\\', \\'new_value\\': \\'1\\'}, {\\'key\\': \\'min_samples_split\\', \\'old_value\\': \\'7\\', \\'new_value\\': \\'10\\'}, {\\'key\\': \\'n_estimators\\', \\'old_value\\': \\'43\\', \\'new_value\\': \\'38\\'}]\\' for run ID=\\'f5f5879ac304482091ac418c734c2301\\'.\")]')]\n",
      "\n"
     ]
    },
    {
     "name": "stdout",
     "output_type": "stream",
     "text": [
      " 47%|████▋     | 7/15 [02:26<02:57, 22.20s/trial, best loss: 5.354695072530291]"
     ]
    },
    {
     "name": "stderr",
     "output_type": "stream",
     "text": [
      "c:\\Users\\FLRG0823\\Downloads\\mlops-zoomcamp\\mlops\\Lib\\site-packages\\sklearn\\metrics\\_regression.py:492: FutureWarning: 'squared' is deprecated in version 1.4 and will be removed in 1.6. To calculate the root mean squared error, use the function'root_mean_squared_error'.\n",
      "  warnings.warn(\n",
      "\n",
      "2024/05/28 20:09:31 WARNING mlflow.sklearn: Failed to log training dataset information to MLflow Tracking. Reason: 'numpy.ndarray' object has no attribute 'toarray'\n",
      "\n",
      "2024/05/28 20:09:41 WARNING mlflow.utils.autologging_utils: Encountered unexpected error during sklearn autologging: The following failures occurred while performing one or more logging operations: [MlflowException('Failed to perform one or more operations on the run with ID f5f5879ac304482091ac418c734c2301. Failed operations: [RestException(\"INVALID_PARAMETER_VALUE: Changing param values is not allowed. Params were already logged=\\'[{\\'key\\': \\'max_depth\\', \\'old_value\\': \\'13\\', \\'new_value\\': \\'7\\'}, {\\'key\\': \\'min_samples_leaf\\', \\'old_value\\': \\'4\\', \\'new_value\\': \\'3\\'}, {\\'key\\': \\'min_samples_split\\', \\'old_value\\': \\'7\\', \\'new_value\\': \\'9\\'}, {\\'key\\': \\'n_estimators\\', \\'old_value\\': \\'43\\', \\'new_value\\': \\'13\\'}]\\' for run ID=\\'f5f5879ac304482091ac418c734c2301\\'.\")]')]\n",
      "\n"
     ]
    },
    {
     "name": "stdout",
     "output_type": "stream",
     "text": [
      " 53%|█████▎    | 8/15 [02:36<02:07, 18.27s/trial, best loss: 5.354695072530291]"
     ]
    },
    {
     "name": "stderr",
     "output_type": "stream",
     "text": [
      "c:\\Users\\FLRG0823\\Downloads\\mlops-zoomcamp\\mlops\\Lib\\site-packages\\sklearn\\metrics\\_regression.py:492: FutureWarning: 'squared' is deprecated in version 1.4 and will be removed in 1.6. To calculate the root mean squared error, use the function'root_mean_squared_error'.\n",
      "  warnings.warn(\n",
      "\n",
      "2024/05/28 20:09:41 WARNING mlflow.sklearn: Failed to log training dataset information to MLflow Tracking. Reason: 'numpy.ndarray' object has no attribute 'toarray'\n",
      "\n",
      "2024/05/28 20:09:58 WARNING mlflow.utils.autologging_utils: Encountered unexpected error during sklearn autologging: The following failures occurred while performing one or more logging operations: [MlflowException('Failed to perform one or more operations on the run with ID f5f5879ac304482091ac418c734c2301. Failed operations: [RestException(\"INVALID_PARAMETER_VALUE: Changing param values is not allowed. Params were already logged=\\'[{\\'key\\': \\'max_depth\\', \\'old_value\\': \\'13\\', \\'new_value\\': \\'12\\'}, {\\'key\\': \\'min_samples_leaf\\', \\'old_value\\': \\'4\\', \\'new_value\\': \\'1\\'}, {\\'key\\': \\'min_samples_split\\', \\'old_value\\': \\'7\\', \\'new_value\\': \\'8\\'}, {\\'key\\': \\'n_estimators\\', \\'old_value\\': \\'43\\', \\'new_value\\': \\'39\\'}]\\' for run ID=\\'f5f5879ac304482091ac418c734c2301\\'.\")]')]\n",
      "\n"
     ]
    },
    {
     "name": "stdout",
     "output_type": "stream",
     "text": [
      " 60%|██████    | 9/15 [02:54<01:48, 18.13s/trial, best loss: 5.354695072530291]"
     ]
    },
    {
     "name": "stderr",
     "output_type": "stream",
     "text": [
      "c:\\Users\\FLRG0823\\Downloads\\mlops-zoomcamp\\mlops\\Lib\\site-packages\\sklearn\\metrics\\_regression.py:492: FutureWarning: 'squared' is deprecated in version 1.4 and will be removed in 1.6. To calculate the root mean squared error, use the function'root_mean_squared_error'.\n",
      "  warnings.warn(\n",
      "\n",
      "2024/05/28 20:09:59 WARNING mlflow.sklearn: Failed to log training dataset information to MLflow Tracking. Reason: 'numpy.ndarray' object has no attribute 'toarray'\n",
      "\n",
      "2024/05/28 20:10:16 WARNING mlflow.utils.autologging_utils: Encountered unexpected error during sklearn autologging: The following failures occurred while performing one or more logging operations: [MlflowException('Failed to perform one or more operations on the run with ID f5f5879ac304482091ac418c734c2301. Failed operations: [RestException(\"INVALID_PARAMETER_VALUE: Changing param values is not allowed. Params were already logged=\\'[{\\'key\\': \\'max_depth\\', \\'old_value\\': \\'13\\', \\'new_value\\': \\'14\\'}, {\\'key\\': \\'min_samples_leaf\\', \\'old_value\\': \\'4\\', \\'new_value\\': \\'2\\'}, {\\'key\\': \\'min_samples_split\\', \\'old_value\\': \\'7\\', \\'new_value\\': \\'6\\'}, {\\'key\\': \\'n_estimators\\', \\'old_value\\': \\'43\\', \\'new_value\\': \\'23\\'}]\\' for run ID=\\'f5f5879ac304482091ac418c734c2301\\'.\")]')]\n",
      "\n",
      "c:\\Users\\FLRG0823\\Downloads\\mlops-zoomcamp\\mlops\\Lib\\site-packages\\sklearn\\metrics\\_regression.py:492: FutureWarning: 'squared' is deprecated in version 1.4 and will be removed in 1.6. To calculate the root mean squared error, use the function'root_mean_squared_error'.\n",
      "  warnings.warn(\n",
      "\n"
     ]
    },
    {
     "name": "stdout",
     "output_type": "stream",
     "text": [
      " 67%|██████▋   | 10/15 [03:12<01:30, 18.04s/trial, best loss: 5.354695072530291]"
     ]
    },
    {
     "name": "stderr",
     "output_type": "stream",
     "text": [
      "2024/05/28 20:10:17 WARNING mlflow.sklearn: Failed to log training dataset information to MLflow Tracking. Reason: 'numpy.ndarray' object has no attribute 'toarray'\n",
      "\n",
      "2024/05/28 20:10:32 WARNING mlflow.utils.autologging_utils: Encountered unexpected error during sklearn autologging: The following failures occurred while performing one or more logging operations: [MlflowException('Failed to perform one or more operations on the run with ID f5f5879ac304482091ac418c734c2301. Failed operations: [RestException(\"INVALID_PARAMETER_VALUE: Changing param values is not allowed. Params were already logged=\\'[{\\'key\\': \\'max_depth\\', \\'old_value\\': \\'13\\', \\'new_value\\': \\'19\\'}, {\\'key\\': \\'min_samples_leaf\\', \\'old_value\\': \\'4\\', \\'new_value\\': \\'2\\'}, {\\'key\\': \\'min_samples_split\\', \\'old_value\\': \\'7\\', \\'new_value\\': \\'2\\'}, {\\'key\\': \\'n_estimators\\', \\'old_value\\': \\'43\\', \\'new_value\\': \\'11\\'}]\\' for run ID=\\'f5f5879ac304482091ac418c734c2301\\'.\")]')]\n",
      "\n"
     ]
    },
    {
     "name": "stdout",
     "output_type": "stream",
     "text": [
      " 73%|███████▎  | 11/15 [03:28<01:09, 17.30s/trial, best loss: 5.335419588556921]"
     ]
    },
    {
     "name": "stderr",
     "output_type": "stream",
     "text": [
      "c:\\Users\\FLRG0823\\Downloads\\mlops-zoomcamp\\mlops\\Lib\\site-packages\\sklearn\\metrics\\_regression.py:492: FutureWarning: 'squared' is deprecated in version 1.4 and will be removed in 1.6. To calculate the root mean squared error, use the function'root_mean_squared_error'.\n",
      "  warnings.warn(\n",
      "\n",
      "2024/05/28 20:10:32 WARNING mlflow.sklearn: Failed to log training dataset information to MLflow Tracking. Reason: 'numpy.ndarray' object has no attribute 'toarray'\n",
      "\n",
      "2024/05/28 20:10:46 WARNING mlflow.utils.autologging_utils: Encountered unexpected error during sklearn autologging: The following failures occurred while performing one or more logging operations: [MlflowException('Failed to perform one or more operations on the run with ID f5f5879ac304482091ac418c734c2301. Failed operations: [RestException(\"INVALID_PARAMETER_VALUE: Changing param values is not allowed. Params were already logged=\\'[{\\'key\\': \\'max_depth\\', \\'old_value\\': \\'13\\', \\'new_value\\': \\'7\\'}, {\\'key\\': \\'min_samples_leaf\\', \\'old_value\\': \\'4\\', \\'new_value\\': \\'1\\'}, {\\'key\\': \\'n_estimators\\', \\'old_value\\': \\'43\\', \\'new_value\\': \\'41\\'}]\\' for run ID=\\'f5f5879ac304482091ac418c734c2301\\'.\")]')]\n",
      "\n",
      "c:\\Users\\FLRG0823\\Downloads\\mlops-zoomcamp\\mlops\\Lib\\site-packages\\sklearn\\metrics\\_regression.py:492: FutureWarning: 'squared' is deprecated in version 1.4 and will be removed in 1.6. To calculate the root mean squared error, use the function'root_mean_squared_error'.\n",
      "  warnings.warn(\n",
      "\n"
     ]
    },
    {
     "name": "stdout",
     "output_type": "stream",
     "text": [
      " 80%|████████  | 12/15 [03:42<00:49, 16.51s/trial, best loss: 5.335419588556921]"
     ]
    },
    {
     "name": "stderr",
     "output_type": "stream",
     "text": [
      "2024/05/28 20:10:47 WARNING mlflow.sklearn: Failed to log training dataset information to MLflow Tracking. Reason: 'numpy.ndarray' object has no attribute 'toarray'\n",
      "\n",
      "2024/05/28 20:10:57 WARNING mlflow.utils.autologging_utils: Encountered unexpected error during sklearn autologging: The following failures occurred while performing one or more logging operations: [MlflowException('Failed to perform one or more operations on the run with ID f5f5879ac304482091ac418c734c2301. Failed operations: [RestException(\"INVALID_PARAMETER_VALUE: Changing param values is not allowed. Params were already logged=\\'[{\\'key\\': \\'max_depth\\', \\'old_value\\': \\'13\\', \\'new_value\\': \\'5\\'}, {\\'key\\': \\'min_samples_leaf\\', \\'old_value\\': \\'4\\', \\'new_value\\': \\'3\\'}, {\\'key\\': \\'min_samples_split\\', \\'old_value\\': \\'7\\', \\'new_value\\': \\'8\\'}, {\\'key\\': \\'n_estimators\\', \\'old_value\\': \\'43\\', \\'new_value\\': \\'21\\'}]\\' for run ID=\\'f5f5879ac304482091ac418c734c2301\\'.\")]')]\n",
      "\n"
     ]
    },
    {
     "name": "stdout",
     "output_type": "stream",
     "text": [
      " 87%|████████▋ | 13/15 [03:53<00:29, 14.74s/trial, best loss: 5.335419588556921]"
     ]
    },
    {
     "name": "stderr",
     "output_type": "stream",
     "text": [
      "c:\\Users\\FLRG0823\\Downloads\\mlops-zoomcamp\\mlops\\Lib\\site-packages\\sklearn\\metrics\\_regression.py:492: FutureWarning: 'squared' is deprecated in version 1.4 and will be removed in 1.6. To calculate the root mean squared error, use the function'root_mean_squared_error'.\n",
      "  warnings.warn(\n",
      "\n",
      "2024/05/28 20:10:58 WARNING mlflow.sklearn: Failed to log training dataset information to MLflow Tracking. Reason: 'numpy.ndarray' object has no attribute 'toarray'\n",
      "\n",
      "2024/05/28 20:11:12 WARNING mlflow.utils.autologging_utils: Encountered unexpected error during sklearn autologging: The following failures occurred while performing one or more logging operations: [MlflowException('Failed to perform one or more operations on the run with ID f5f5879ac304482091ac418c734c2301. Failed operations: [RestException(\"INVALID_PARAMETER_VALUE: Changing param values is not allowed. Params were already logged=\\'[{\\'key\\': \\'max_depth\\', \\'old_value\\': \\'13\\', \\'new_value\\': \\'18\\'}, {\\'key\\': \\'min_samples_leaf\\', \\'old_value\\': \\'4\\', \\'new_value\\': \\'1\\'}, {\\'key\\': \\'min_samples_split\\', \\'old_value\\': \\'7\\', \\'new_value\\': \\'6\\'}, {\\'key\\': \\'n_estimators\\', \\'old_value\\': \\'43\\', \\'new_value\\': \\'13\\'}]\\' for run ID=\\'f5f5879ac304482091ac418c734c2301\\'.\")]')]\n",
      "\n"
     ]
    },
    {
     "name": "stdout",
     "output_type": "stream",
     "text": [
      " 93%|█████████▎| 14/15 [04:07<00:14, 14.59s/trial, best loss: 5.335419588556921]"
     ]
    },
    {
     "name": "stderr",
     "output_type": "stream",
     "text": [
      "c:\\Users\\FLRG0823\\Downloads\\mlops-zoomcamp\\mlops\\Lib\\site-packages\\sklearn\\metrics\\_regression.py:492: FutureWarning: 'squared' is deprecated in version 1.4 and will be removed in 1.6. To calculate the root mean squared error, use the function'root_mean_squared_error'.\n",
      "  warnings.warn(\n",
      "\n",
      "2024/05/28 20:11:12 WARNING mlflow.sklearn: Failed to log training dataset information to MLflow Tracking. Reason: 'numpy.ndarray' object has no attribute 'toarray'\n",
      "\n",
      "2024/05/28 20:11:28 WARNING mlflow.utils.autologging_utils: Encountered unexpected error during sklearn autologging: The following failures occurred while performing one or more logging operations: [MlflowException('Failed to perform one or more operations on the run with ID f5f5879ac304482091ac418c734c2301. Failed operations: [RestException(\"INVALID_PARAMETER_VALUE: Changing param values is not allowed. Params were already logged=\\'[{\\'key\\': \\'max_depth\\', \\'old_value\\': \\'13\\', \\'new_value\\': \\'20\\'}, {\\'key\\': \\'min_samples_leaf\\', \\'old_value\\': \\'4\\', \\'new_value\\': \\'1\\'}, {\\'key\\': \\'min_samples_split\\', \\'old_value\\': \\'7\\', \\'new_value\\': \\'9\\'}, {\\'key\\': \\'n_estimators\\', \\'old_value\\': \\'43\\', \\'new_value\\': \\'19\\'}]\\' for run ID=\\'f5f5879ac304482091ac418c734c2301\\'.\")]')]\n",
      "\n"
     ]
    },
    {
     "name": "stdout",
     "output_type": "stream",
     "text": [
      "100%|██████████| 15/15 [04:23<00:00, 17.59s/trial, best loss: 5.335419588556921]"
     ]
    },
    {
     "name": "stderr",
     "output_type": "stream",
     "text": [
      "c:\\Users\\FLRG0823\\Downloads\\mlops-zoomcamp\\mlops\\Lib\\site-packages\\sklearn\\metrics\\_regression.py:492: FutureWarning: 'squared' is deprecated in version 1.4 and will be removed in 1.6. To calculate the root mean squared error, use the function'root_mean_squared_error'.\n",
      "  warnings.warn(\n",
      "\n"
     ]
    },
    {
     "name": "stdout",
     "output_type": "stream",
     "text": [
      "\n"
     ]
    }
   ],
   "source": [
    "\n",
    "if __name__ == '__main__':\n",
    "    with mlflow.start_run(experiment_id=2):\n",
    "\n",
    "        run_optimization()"
   ]
  },
  {
   "cell_type": "code",
   "execution_count": 5,
   "id": "60ec90ac",
   "metadata": {},
   "outputs": [
    {
     "name": "stderr",
     "output_type": "stream",
     "text": [
      "2024/05/28 21:51:56 WARNING mlflow.utils.autologging_utils: You are using an unsupported version of sklearn. If you encounter errors during autologging, try upgrading / downgrading sklearn to a supported version, or try upgrading MLflow.\n"
     ]
    }
   ],
   "source": [
    "import os\n",
    "import pickle\n",
    "import click\n",
    "import mlflow\n",
    "\n",
    "from mlflow.entities import ViewType\n",
    "from mlflow.tracking import MlflowClient\n",
    "from sklearn.ensemble import RandomForestRegressor\n",
    "from sklearn.metrics import mean_squared_error\n",
    "\n",
    "HPO_EXPERIMENT_NAME = \"random-forest-hyperopt\"\n",
    "EXPERIMENT_NAME = \"random-forest-best-models\"\n",
    "RF_PARAMS = ['max_depth', 'n_estimators', 'min_samples_split', 'min_samples_leaf', 'random_state']\n",
    "\n",
    "mlflow.set_tracking_uri(\"http://127.0.0.1:5000\")\n",
    "mlflow.set_experiment(EXPERIMENT_NAME)\n",
    "mlflow.sklearn.autolog()\n",
    "\n",
    "\n",
    "def load_pickle(filename):\n",
    "    with open(filename, \"rb\") as f_in:\n",
    "        return pickle.load(f_in)\n",
    "\n",
    "\n",
    "def train_and_log_model(data_path, params):\n",
    "    X_train, y_train = load_pickle(os.path.join(data_path, \"train.pkl\"))\n",
    "    X_val, y_val = load_pickle(os.path.join(data_path, \"val.pkl\"))\n",
    "    X_test, y_test = load_pickle(os.path.join(data_path, \"test.pkl\"))\n",
    "\n",
    "    with mlflow.start_run():\n",
    "        for param in RF_PARAMS:\n",
    "            params[param] = int(params[param])\n",
    "\n",
    "        rf = RandomForestRegressor(**params)\n",
    "        rf.fit(X_train, y_train)\n",
    "        \n",
    "        # Evaluate model on the validation and test sets\n",
    "        val_rmse = mean_squared_error(y_val, rf.predict(X_val), squared=False)\n",
    "        mlflow.log_metric(\"val_rmse\", val_rmse)\n",
    "        test_rmse = mean_squared_error(y_test, rf.predict(X_test), squared=False)\n",
    "        mlflow.log_metric(\"test_rmse\", test_rmse)\n",
    "\n",
    "\n",
    "\n",
    "\n",
    "\n",
    "    \n",
    "    \n",
    "\n",
    "    # Register the best model\n",
    "    # mlflow.register_model( ... )\n",
    "\n",
    "\n"
   ]
  },
  {
   "cell_type": "code",
   "execution_count": 23,
   "id": "3bb96c27",
   "metadata": {},
   "outputs": [],
   "source": [
    "import ast\n",
    "\n",
    "def parse_param_value(value):\n",
    "    # Handle None separately\n",
    "    if value == 'None':\n",
    "        return None\n",
    "    # Handle booleans\n",
    "    elif value == 'True':\n",
    "        return True\n",
    "    elif value == 'False':\n",
    "        return False\n",
    "    # Attempt to evaluate the value as a Python literal (int, float, etc.)\n",
    "    try:\n",
    "        return ast.literal_eval(value)\n",
    "    except (ValueError, SyntaxError):\n",
    "        # If it's not a literal, return the original string\n",
    "        return value\n",
    "\n",
    "def convert_params(params):\n",
    "    return {key: parse_param_value(value) for key, value in params.items()}"
   ]
  },
  {
   "cell_type": "code",
   "execution_count": 31,
   "id": "53fee671",
   "metadata": {},
   "outputs": [],
   "source": [
    "def run_register_model(data_path: str='./output', top_n: int=5):\n",
    "\n",
    "    client = MlflowClient()\n",
    "    \n",
    "    # Retrieve the top_n model runs and log the models\n",
    "    experiment = client.get_experiment_by_name(HPO_EXPERIMENT_NAME)\n",
    "    runs = client.search_runs(\n",
    "        experiment_ids=experiment.experiment_id,\n",
    "        run_view_type=ViewType.ACTIVE_ONLY,\n",
    "        max_results=top_n,\n",
    "        order_by=[\"metrics.rmse ASC\"]\n",
    "    )\n",
    "    for run in runs:\n",
    "       \n",
    "        train_and_log_model(data_path=data_path, params=convert_params(run.data.params))\n",
    "    \n",
    "    "
   ]
  },
  {
   "cell_type": "code",
   "execution_count": 25,
   "id": "a2514dfc",
   "metadata": {},
   "outputs": [
    {
     "name": "stderr",
     "output_type": "stream",
     "text": [
      "2024/05/28 22:05:43 WARNING mlflow.sklearn: Failed to log training dataset information to MLflow Tracking. Reason: 'numpy.ndarray' object has no attribute 'toarray'\n",
      "2024/05/28 22:06:11 WARNING mlflow.utils.autologging_utils: MLflow autologging encountered a warning: \"c:\\Users\\FLRG0823\\Downloads\\mlops-zoomcamp\\mlops\\Lib\\site-packages\\_distutils_hack\\__init__.py:33: UserWarning: Setuptools is replacing distutils.\"\n",
      "c:\\Users\\FLRG0823\\Downloads\\mlops-zoomcamp\\mlops\\Lib\\site-packages\\sklearn\\metrics\\_regression.py:492: FutureWarning: 'squared' is deprecated in version 1.4 and will be removed in 1.6. To calculate the root mean squared error, use the function'root_mean_squared_error'.\n",
      "  warnings.warn(\n",
      "c:\\Users\\FLRG0823\\Downloads\\mlops-zoomcamp\\mlops\\Lib\\site-packages\\sklearn\\metrics\\_regression.py:492: FutureWarning: 'squared' is deprecated in version 1.4 and will be removed in 1.6. To calculate the root mean squared error, use the function'root_mean_squared_error'.\n",
      "  warnings.warn(\n",
      "2024/05/28 22:06:34 WARNING mlflow.sklearn: Failed to log training dataset information to MLflow Tracking. Reason: 'numpy.ndarray' object has no attribute 'toarray'\n",
      "c:\\Users\\FLRG0823\\Downloads\\mlops-zoomcamp\\mlops\\Lib\\site-packages\\sklearn\\metrics\\_regression.py:492: FutureWarning: 'squared' is deprecated in version 1.4 and will be removed in 1.6. To calculate the root mean squared error, use the function'root_mean_squared_error'.\n",
      "  warnings.warn(\n",
      "c:\\Users\\FLRG0823\\Downloads\\mlops-zoomcamp\\mlops\\Lib\\site-packages\\sklearn\\metrics\\_regression.py:492: FutureWarning: 'squared' is deprecated in version 1.4 and will be removed in 1.6. To calculate the root mean squared error, use the function'root_mean_squared_error'.\n",
      "  warnings.warn(\n"
     ]
    }
   ],
   "source": [
    "run_register_model()"
   ]
  },
  {
   "cell_type": "code",
   "execution_count": 33,
   "id": "6aeb58e1",
   "metadata": {},
   "outputs": [
    {
     "name": "stdout",
     "output_type": "stream",
     "text": [
      "<Run: data=<RunData: metrics={'mean_squared_error-2_X_test': 5.599280662415257,\n",
      " 'mean_squared_error_X_val': 5.370086069268862,\n",
      " 'test_rmse': 5.599280662415257,\n",
      " 'training_mean_absolute_error': 3.341844396061385,\n",
      " 'training_mean_squared_error': 26.75293577873919,\n",
      " 'training_r2_score': 0.6714525000717566,\n",
      " 'training_root_mean_squared_error': 5.172324021050807,\n",
      " 'training_score': 0.6714525000717566,\n",
      " 'val_rmse': 5.370086069268862}, params={'bootstrap': 'True',\n",
      " 'ccp_alpha': '0.0',\n",
      " 'criterion': 'squared_error',\n",
      " 'max_depth': '13',\n",
      " 'max_features': '1.0',\n",
      " 'max_leaf_nodes': 'None',\n",
      " 'max_samples': 'None',\n",
      " 'min_impurity_decrease': '0.0',\n",
      " 'min_samples_leaf': '4',\n",
      " 'min_samples_split': '7',\n",
      " 'min_weight_fraction_leaf': '0.0',\n",
      " 'monotonic_cst': 'None',\n",
      " 'n_estimators': '43',\n",
      " 'n_jobs': 'None',\n",
      " 'oob_score': 'False',\n",
      " 'random_state': '42',\n",
      " 'verbose': '0',\n",
      " 'warm_start': 'False'}, tags={'estimator_class': 'sklearn.ensemble._forest.RandomForestRegressor',\n",
      " 'estimator_name': 'RandomForestRegressor',\n",
      " 'mlflow.log-model.history': '[{\"run_id\": \"042eb0f4eab442ed847b8aec2705451b\", '\n",
      "                             '\"artifact_path\": \"model\", \"utc_time_created\": '\n",
      "                             '\"2024-05-28 19:06:51.406363\", \"flavors\": '\n",
      "                             '{\"python_function\": {\"model_path\": \"model.pkl\", '\n",
      "                             '\"predict_fn\": \"predict\", \"loader_module\": '\n",
      "                             '\"mlflow.sklearn\", \"python_version\": \"3.11.4\", '\n",
      "                             '\"env\": {\"conda\": \"conda.yaml\", \"virtualenv\": '\n",
      "                             '\"python_env.yaml\"}}, \"sklearn\": '\n",
      "                             '{\"pickled_model\": \"model.pkl\", '\n",
      "                             '\"sklearn_version\": \"1.5.0\", '\n",
      "                             '\"serialization_format\": \"cloudpickle\", \"code\": '\n",
      "                             'null}}, \"model_uuid\": '\n",
      "                             '\"3eeded89418e413ab5b558b88daf8d1b\", '\n",
      "                             '\"mlflow_version\": \"2.13.0\", \"signature\": '\n",
      "                             '{\"inputs\": \"[{\\\\\"type\\\\\": \\\\\"tensor\\\\\", '\n",
      "                             '\\\\\"tensor-spec\\\\\": {\\\\\"dtype\\\\\": \\\\\"float64\\\\\", '\n",
      "                             '\\\\\"shape\\\\\": [-1, 5702]}}]\", \"outputs\": '\n",
      "                             '\"[{\\\\\"type\\\\\": \\\\\"tensor\\\\\", \\\\\"tensor-spec\\\\\": '\n",
      "                             '{\\\\\"dtype\\\\\": \\\\\"float64\\\\\", \\\\\"shape\\\\\": '\n",
      "                             '[-1]}}]\", \"params\": null}, \"model_size_bytes\": '\n",
      "                             '4031751}]',\n",
      " 'mlflow.runName': 'welcoming-wasp-652',\n",
      " 'mlflow.source.git.commit': '9fab296bae44d27841f29f6df3d2f1bc0419215d',\n",
      " 'mlflow.source.name': 'c:\\\\Users\\\\FLRG0823\\\\Downloads\\\\mlops-zoomcamp\\\\mlops\\\\Lib\\\\site-packages\\\\ipykernel_launcher.py',\n",
      " 'mlflow.source.type': 'LOCAL',\n",
      " 'mlflow.user': 'FLRG0823'}>, info=<RunInfo: artifact_uri='mlflow-artifacts:/3/042eb0f4eab442ed847b8aec2705451b/artifacts', end_time=1716923238008, experiment_id='3', lifecycle_stage='active', run_id='042eb0f4eab442ed847b8aec2705451b', run_name='welcoming-wasp-652', run_uuid='042eb0f4eab442ed847b8aec2705451b', start_time=1716923194528, status='FINISHED', user_id='FLRG0823'>, inputs=<RunInputs: dataset_inputs=[<DatasetInput: dataset=<Dataset: digest='7edda543', name='dataset', profile=('{\"features_shape\": [62574, 5702], \"features_size\": 356796948, '\n",
      " '\"features_nbytes\": 2854375584}'), schema=('{\"mlflow_tensorspec\": {\"features\": \"[{\\\\\"type\\\\\": \\\\\"tensor\\\\\", '\n",
      " '\\\\\"tensor-spec\\\\\": {\\\\\"dtype\\\\\": \\\\\"float64\\\\\", \\\\\"shape\\\\\": [-1, 5702]}}]\", '\n",
      " '\"targets\": null}}'), source=('{\"tags\": {\"mlflow.user\": \"FLRG0823\", \"mlflow.source.name\": '\n",
      " '\"c:\\\\\\\\Users\\\\\\\\FLRG0823\\\\\\\\Downloads\\\\\\\\mlops-zoomcamp\\\\\\\\mlops\\\\\\\\Lib\\\\\\\\site-packages\\\\\\\\ipykernel_launcher.py\", '\n",
      " '\"mlflow.source.type\": \"LOCAL\", \"mlflow.source.git.commit\": '\n",
      " '\"9fab296bae44d27841f29f6df3d2f1bc0419215d\"}}'), source_type='code'>, tags=[<InputTag: key='mlflow.data.context', value='eval'>]>,\n",
      " <DatasetInput: dataset=<Dataset: digest='5a2feb47', name='dataset', profile=('{\"features_shape\": [69392, 5702], \"features_size\": 395673184, '\n",
      " '\"features_nbytes\": 3165385472}'), schema=('{\"mlflow_tensorspec\": {\"features\": \"[{\\\\\"type\\\\\": \\\\\"tensor\\\\\", '\n",
      " '\\\\\"tensor-spec\\\\\": {\\\\\"dtype\\\\\": \\\\\"float64\\\\\", \\\\\"shape\\\\\": [-1, 5702]}}]\", '\n",
      " '\"targets\": null}}'), source=('{\"tags\": {\"mlflow.user\": \"FLRG0823\", \"mlflow.source.name\": '\n",
      " '\"c:\\\\\\\\Users\\\\\\\\FLRG0823\\\\\\\\Downloads\\\\\\\\mlops-zoomcamp\\\\\\\\mlops\\\\\\\\Lib\\\\\\\\site-packages\\\\\\\\ipykernel_launcher.py\", '\n",
      " '\"mlflow.source.type\": \"LOCAL\", \"mlflow.source.git.commit\": '\n",
      " '\"9fab296bae44d27841f29f6df3d2f1bc0419215d\"}}'), source_type='code'>, tags=[<InputTag: key='mlflow.data.context', value='eval'>]>]>>\n"
     ]
    }
   ],
   "source": [
    "client = MlflowClient()\n",
    "\n",
    "# Select the model with the lowest test RMSE\n",
    "experiment = client.get_experiment_by_name(EXPERIMENT_NAME)\n",
    "\n",
    "best_run = client.search_runs(experiment_ids=experiment.experiment_id,\n",
    "        run_view_type=ViewType.ACTIVE_ONLY,\n",
    "        order_by=[\"metrics.test_rmse ASC\"]  )[0]\n",
    "print(best_run)\n"
   ]
  },
  {
   "cell_type": "code",
   "execution_count": null,
   "id": "4363a038",
   "metadata": {},
   "outputs": [],
   "source": []
  }
 ],
 "metadata": {
  "kernelspec": {
   "display_name": "Python 3 (ipykernel)",
   "language": "python",
   "name": "python3"
  },
  "language_info": {
   "codemirror_mode": {
    "name": "ipython",
    "version": 3
   },
   "file_extension": ".py",
   "mimetype": "text/x-python",
   "name": "python",
   "nbconvert_exporter": "python",
   "pygments_lexer": "ipython3",
   "version": "3.11.4"
  }
 },
 "nbformat": 4,
 "nbformat_minor": 5
}
